{
  "nbformat": 4,
  "nbformat_minor": 0,
  "metadata": {
    "colab": {
      "name": "Image Classification using Machine Learning.ipynb",
      "provenance": [],
      "mount_file_id": "1w3MxLkpxN-NktAfROXLbOGfBNcae7o-1",
      "authorship_tag": "ABX9TyOQOl0NNjseHPle1mKPTieR",
      "include_colab_link": true
    },
    "kernelspec": {
      "name": "python3",
      "display_name": "Python 3"
    }
  },
  "cells": [
    {
      "cell_type": "markdown",
      "metadata": {
        "id": "view-in-github",
        "colab_type": "text"
      },
      "source": [
        "<a href=\"https://colab.research.google.com/github/karanchandru/mini-project/blob/master/Image_Classification_using_Machine_Learning.ipynb\" target=\"_parent\"><img src=\"https://colab.research.google.com/assets/colab-badge.svg\" alt=\"Open In Colab\"/></a>"
      ]
    },
    {
      "cell_type": "code",
      "metadata": {
        "id": "twPtNuvC7ZME",
        "colab_type": "code",
        "colab": {
          "base_uri": "https://localhost:8080/",
          "height": 110
        },
        "outputId": "4283c0a9-4f4b-48bb-96af-d9bbf2df4db7"
      },
      "source": [
        "!pip install bing-image-downloader\n"
      ],
      "execution_count": 15,
      "outputs": [
        {
          "output_type": "stream",
          "text": [
            "Collecting bing-image-downloader\n",
            "  Downloading https://files.pythonhosted.org/packages/0d/bf/537a61030b84ae4cd5022d5c7b014fd9bc3ce7c02358919153a6658a61d3/bing_image_downloader-1.0.4-py3-none-any.whl\n",
            "Installing collected packages: bing-image-downloader\n",
            "Successfully installed bing-image-downloader-1.0.4\n"
          ],
          "name": "stdout"
        }
      ]
    },
    {
      "cell_type": "code",
      "metadata": {
        "id": "wbkxdZM0-8GD",
        "colab_type": "code",
        "colab": {
          "base_uri": "https://localhost:8080/",
          "height": 35
        },
        "outputId": "89db43b0-6515-425d-be5f-5b036387f1ac"
      },
      "source": [
        "cd /content/drive/My Drive/data science\n"
      ],
      "execution_count": 16,
      "outputs": [
        {
          "output_type": "stream",
          "text": [
            "/content/drive/My Drive/data science\n"
          ],
          "name": "stdout"
        }
      ]
    },
    {
      "cell_type": "code",
      "metadata": {
        "id": "wWTf2hSy_xAj",
        "colab_type": "code",
        "colab": {
          "base_uri": "https://localhost:8080/",
          "height": 35
        },
        "outputId": "0e244da5-8a82-48d8-dae6-25227ad64a55"
      },
      "source": [
        "! mkdir images"
      ],
      "execution_count": 17,
      "outputs": [
        {
          "output_type": "stream",
          "text": [
            "mkdir: cannot create directory ‘images’: File exists\n"
          ],
          "name": "stdout"
        }
      ]
    },
    {
      "cell_type": "code",
      "metadata": {
        "id": "FSxDefYR_0zC",
        "colab_type": "code",
        "colab": {
          "base_uri": "https://localhost:8080/",
          "height": 35
        },
        "outputId": "54222cf7-144e-441c-e7f9-9a9db8078d62"
      },
      "source": [
        "cd images/"
      ],
      "execution_count": 18,
      "outputs": [
        {
          "output_type": "stream",
          "text": [
            "/content/drive/My Drive/data science/images\n"
          ],
          "name": "stdout"
        }
      ]
    },
    {
      "cell_type": "code",
      "metadata": {
        "id": "law9sbJu_3Aw",
        "colab_type": "code",
        "colab": {
          "base_uri": "https://localhost:8080/",
          "height": 1000
        },
        "outputId": "febc168f-c245-4ee8-d68c-6868fca9c4e6"
      },
      "source": [
        "from bing_image_downloader import downloader\n",
        "downloader.download(\"human face images\",limit=30,output_dir='images')"
      ],
      "execution_count": 19,
      "outputs": [
        {
          "output_type": "stream",
          "text": [
            "\n",
            "\n",
            "[!!]Indexing page: 1\n",
            "\n",
            "[%] Indexed 31 Images on Page 1.\n",
            "\n",
            "===============================================\n",
            "\n",
            "[%] Downloading Image #1 from https://i2-prod.mirror.co.uk/incoming/article14334083.ece/ALTERNATES/s615/3_Beautiful-girl-with-a-gentle-smile.jpg\n",
            "[%] File Downloaded !\n",
            "\n",
            "[%] Downloading Image #2 from http://news.berkeley.edu/wp-content/uploads/2014/09/fortyfaces250.gif\n",
            "[%] File Downloaded !\n",
            "\n",
            "[%] Downloading Image #3 from https://www.bing.com/th/id/OGC.413b281d23d1948b42985cbfefdab0a4?pid=1.7&amp;rurl=http%3a%2f%2fnews.berkeley.edu%2fwp-content%2fuploads%2f2014%2f09%2ffortyfaces250.gif&amp;ehk=85uBbXA%2fuoZjJzeE7hRt9sL1iUjZs%2f9j9z6mmNtiyhM%3d\n",
            "[!] Issue getting: https://www.bing.com/th/id/OGC.413b281d23d1948b42985cbfefdab0a4?pid=1.7&amp;rurl=http%3a%2f%2fnews.berkeley.edu%2fwp-content%2fuploads%2f2014%2f09%2ffortyfaces250.gif&amp;ehk=85uBbXA%2fuoZjJzeE7hRt9sL1iUjZs%2f9j9z6mmNtiyhM%3d\n",
            "[!] Error:: HTTP Error 404: Not Found\n",
            "[%] Downloading Image #3 from https://media.salon.com/2019/04/suprised-man.jpg\n",
            "[%] File Downloaded !\n",
            "\n",
            "[%] Downloading Image #4 from https://images.pexels.com/photos/614810/pexels-photo-614810.jpeg?cs=srgb&amp;dl=face-facial-hair-fine-looking-614810.jpg&amp;fm=jpg\n",
            "[%] File Downloaded !\n",
            "\n",
            "[%] Downloading Image #5 from http://ggia.berkeley.edu/assets/general/GGIA-HumanFace.jpg\n",
            "[%] File Downloaded !\n",
            "\n",
            "[%] Downloading Image #6 from https://www.designboom.com/wp-content/uploads/2015/05/babak-hosseiny-jeffrey-vanhoutte-o-les-mains-designboom-07.jpg\n",
            "[%] File Downloaded !\n",
            "\n",
            "[%] Downloading Image #7 from http://nofilmschool.com/sites/default/files/styles/facebook/public/light_on_human_face_drama_1.jpg?itok=U9Enb4lA\n",
            "[%] File Downloaded !\n",
            "\n",
            "[%] Downloading Image #8 from https://www.wikihow.com/images/2/24/Draw-Human-Faces-Step-9.jpg\n",
            "[%] File Downloaded !\n",
            "\n",
            "[%] Downloading Image #9 from http://images.unsplash.com/photo-1507003211169-0a1dd7228f2d?ixlib=rb-0.3.5&amp;q=80&amp;fm=jpg&amp;crop=entropy&amp;cs=tinysrgb&amp;w=1080&amp;fit=max&amp;s=69780ea1ab78d998a309324e96c6bf6b\n",
            "[%] File Downloaded !\n",
            "\n",
            "[%] Downloading Image #10 from https://d1o50x50snmhul.cloudfront.net/wp-content/uploads/2017/06/01152227/gettyimages-607358443.jpg\n",
            "[%] File Downloaded !\n",
            "\n",
            "[%] Downloading Image #11 from http://files.campus.edublogs.org/blogs.city.ac.uk/dist/3/187/files/2012/05/Omaid-3-1ljur0f.jpg\n",
            "[%] File Downloaded !\n",
            "\n",
            "[%] Downloading Image #12 from https://im.indiatimes.in/content/itimes/blog/2016/Jul/22/1469162215-how-to-read-faces.jpg\n",
            "[%] File Downloaded !\n",
            "\n",
            "[%] Downloading Image #13 from https://cdn.pixabay.com/photo/2015/07/20/12/53/man-852762_640.jpg\n",
            "[%] File Downloaded !\n",
            "\n",
            "[%] Downloading Image #14 from https://amp.businessinsider.com/images/5654b0196bb3f72a48f33ff1-1536-768.jpg\n",
            "[%] File Downloaded !\n",
            "\n",
            "[%] Downloading Image #15 from http://2.bp.blogspot.com/-1KZ_43mwY3A/U4nQ3DyElqI/AAAAAAAAA_Q/Xnj_2CXUHo0/s1600/1.jpg\n",
            "[%] File Downloaded !\n",
            "\n",
            "[%] Downloading Image #16 from https://media.istockphoto.com/photos/beautiful-woman-portrait-face-close-up-studio-gray-background-picture-id507790176?k=6&amp;m=507790176&amp;s=612x612&amp;w=0&amp;h=qw2sEQS_CZBwB-YoYzBxvZlM8tVZ6XzuEXfP7mTa9Y8=\n",
            "[%] File Downloaded !\n",
            "\n",
            "[%] Downloading Image #17 from https://cdn0.vox-cdn.com/thumbor/_-bdaw1HO6elfR8KEg_8w2Zo0lo=/1020x0/cdn0.vox-cdn.com/uploads/chorus_asset/file/2831182/Screen_Shot_2014-03-31_at_1.53.32_PM.1396288826.png\n",
            "[%] File Downloaded !\n",
            "\n",
            "[%] Downloading Image #18 from https://i.ytimg.com/vi/6cZIaUEmnLI/maxresdefault.jpg\n",
            "[%] File Downloaded !\n",
            "\n",
            "[%] Downloading Image #19 from https://i.ytimg.com/vi/eGi4Cs7vwuc/maxresdefault.jpg\n",
            "[%] File Downloaded !\n",
            "\n",
            "[%] Downloading Image #20 from https://img.theweek.in/content/dam/week/news/sci-tech/images/2019/1/18/portrait-modern-human-homo-Erectus-man-side-by-side-facial-shape-evolution-modern-human-face-shut.jpg\n",
            "[%] File Downloaded !\n",
            "\n",
            "[%] Downloading Image #21 from http://goldenmeancalipers.com/wp-content/uploads/2011/12/merge_male1.jpg\n",
            "[%] File Downloaded !\n",
            "\n",
            "[%] Downloading Image #22 from https://www.photocase.com/photos/409411-human-being-man-youth-young-adults-green-adults-face-photocase-stock-photo-large.jpeg\n",
            "[%] File Downloaded !\n",
            "\n",
            "[%] Downloading Image #23 from http://cdn.themis-media.com/media/global/images/library/deriv/482/482482.png\n",
            "[%] File Downloaded !\n",
            "\n",
            "[%] Downloading Image #24 from https://www.sciencealert.com/images/articles/processed/HumanFace_web_1024.jpg\n",
            "[%] File Downloaded !\n",
            "\n",
            "[%] Downloading Image #25 from https://www.askideas.com/media/06/Funny-Human-Weird-face.jpg\n",
            "[%] File Downloaded !\n",
            "\n",
            "[%] Downloading Image #26 from http://modelsofexcellence.eleducation.org/sites/default/files/slideshows/project/6758/images/slideshow/human8.jpg\n",
            "[%] File Downloaded !\n",
            "\n",
            "[%] Downloading Image #27 from https://news.microsoft.com/stories/building87/_media/images/hfg/interaction/mobile-head-03.png\n",
            "[%] File Downloaded !\n",
            "\n",
            "[%] Downloading Image #28 from https://media.istockphoto.com/photos/outdoor-shot-of-young-beautiful-woman-picture-id539208122?k=6&amp;m=539208122&amp;s=612x612&amp;w=0&amp;h=hX0bAMPBaMgnMDVPC74U1HDhK3_wtL2PTXPs4w4GDJY=\n",
            "[%] File Downloaded !\n",
            "\n",
            "[%] Downloading Image #29 from https://i.dailymail.co.uk/i/pix/2010/12/21/article-0-0C8D2331000005DC-314_196x274.jpg\n",
            "[Error]Invalid image, not saving https://i.dailymail.co.uk/i/pix/2010/12/21/article-0-0C8D2331000005DC-314_196x274.jpg\n",
            "\n",
            "[!] Issue getting: https://i.dailymail.co.uk/i/pix/2010/12/21/article-0-0C8D2331000005DC-314_196x274.jpg\n",
            "[!] Error:: No active exception to reraise\n",
            "[%] Downloading Image #29 from https://media.istockphoto.com/photos/real-man-profile-picture-id181062030?k=6&amp;m=181062030&amp;s=612x612&amp;w=0&amp;h=-3Shi0xIS5bVz0GLAHoy_TLrhtMrWcSxQRBovN8UswQ=\n",
            "[%] File Downloaded !\n",
            "\n",
            "\n",
            "\n",
            "[!!]Indexing page: 2\n",
            "\n",
            "[%] Indexed 36 Images on Page 2.\n",
            "\n",
            "===============================================\n",
            "\n",
            "[%] Downloading Image #30 from https://i2-prod.mirror.co.uk/incoming/article14334083.ece/ALTERNATES/s615/3_Beautiful-girl-with-a-gentle-smile.jpg\n",
            "[%] File Downloaded !\n",
            "\n",
            "\n",
            "\n",
            "[%] Done. Downloaded 30 images.\n",
            "\n",
            "===============================================\n",
            "\n"
          ],
          "name": "stdout"
        }
      ]
    },
    {
      "cell_type": "code",
      "metadata": {
        "id": "tkhz3R4KAsUj",
        "colab_type": "code",
        "colab": {
          "base_uri": "https://localhost:8080/",
          "height": 287
        },
        "outputId": "d3ff3d22-0d64-4266-994f-7d65f8245265"
      },
      "source": [
        "path='/content/drive/My Drive/data science/images/images/human face images/Image_10.jpg'\n",
        "import cv2\n",
        "import matplotlib.pyplot as plt\n",
        "i = cv2.imread(path)\n",
        "i = cv2.cvtColor(i,cv2.COLOR_BGR2RGB)\n",
        "plt.imshow(i)"
      ],
      "execution_count": 20,
      "outputs": [
        {
          "output_type": "execute_result",
          "data": {
            "text/plain": [
              "<matplotlib.image.AxesImage at 0x7fdb7e0687f0>"
            ]
          },
          "metadata": {
            "tags": []
          },
          "execution_count": 20
        },
        {
          "output_type": "display_data",
          "data": {
            "image/png": "[encoded data removed]",
            "text/plain": [
              "<Figure size 432x288 with 1 Axes>"
            ]
          },
          "metadata": {
            "tags": [],
            "needs_background": "light"
          }
        }
      ]
    },
    {
      "cell_type": "code",
      "metadata": {
        "id": "vsnbvE0vB4AU",
        "colab_type": "code",
        "colab": {
          "base_uri": "https://localhost:8080/",
          "height": 1000
        },
        "outputId": "13126c57-9a5a-41dc-930b-597d52ed38ac"
      },
      "source": [
        "downloader.download(\"Person Wearing Motorcycle Helmet\",limit=30,output_dir='images')"
      ],
      "execution_count": 21,
      "outputs": [
        {
          "output_type": "stream",
          "text": [
            "\n",
            "\n",
            "[!!]Indexing page: 1\n",
            "\n",
            "[%] Indexed 30 Images on Page 1.\n",
            "\n",
            "===============================================\n",
            "\n",
            "[%] Downloading Image #1 from https://www.themotoexpert.com/wp-content/uploads/2018/06/MotorcycleHelmet_1.jpeg\n",
            "[!] Issue getting: https://www.themotoexpert.com/wp-content/uploads/2018/06/MotorcycleHelmet_1.jpeg\n",
            "[!] Error:: <urlopen error [Errno 111] Connection refused>\n",
            "[%] Downloading Image #1 from http://c8.alamy.com/comp/A3KGXB/smiling-young-man-wearing-motorcycle-helmet-and-jacket-with-workplace-A3KGXB.jpg\n",
            "[%] File Downloaded !\n",
            "\n",
            "[%] Downloading Image #2 from https://c.stocksy.com/a/5GF000/z9/58657.jpg?1551893655\n",
            "[%] File Downloaded !\n",
            "\n",
            "[%] Downloading Image #3 from http://s3-eu-west-1.amazonaws.com/crash.net/visordown.com/field/image/things%20bikers%20never%20grow%20out%20of%201.jpg\n",
            "[%] File Downloaded !\n",
            "\n",
            "[%] Downloading Image #4 from https://images.pexels.com/photos/89637/pexels-photo-89637.jpeg?auto=compress&amp;cs=tinysrgb&amp;h=750&amp;w=1260\n",
            "[%] File Downloaded !\n",
            "\n",
            "[%] Downloading Image #5 from https://thumbs.dreamstime.com/z/young-motorcyclist-man-wearing-helmet-25406208.jpg\n",
            "[%] File Downloaded !\n",
            "\n",
            "[%] Downloading Image #6 from https://www.bestbeginnermotorcycles.com/wp-content/uploads/2017/05/cameron-kirby-105242.jpg\n",
            "[%] File Downloaded !\n",
            "\n",
            "[%] Downloading Image #7 from https://images.pexels.com/photos/1915149/pexels-photo-1915149.jpeg?cs=srgb&amp;dl=person-wearing-helmet-1915149.jpg&amp;fm=jpg\n",
            "[%] File Downloaded !\n",
            "\n",
            "[%] Downloading Image #8 from https://images.unsplash.com/photo-1549958909-db7599598400?ixlib=rb-1.2.1&amp;ixid=eyJhcHBfaWQiOjEyMDd9&amp;auto=format&amp;fit=crop&amp;w=1000&amp;q=80\n",
            "[%] File Downloaded !\n",
            "\n",
            "[%] Downloading Image #9 from https://www.featurepics.com/StockImage/20090303/woman-in-motorcycle-helmet-stock-picture-1100288.jpg\n",
            "[%] File Downloaded !\n",
            "\n",
            "[%] Downloading Image #10 from https://menhealth.in/wp-content/uploads/2015/10/Hair-loss-due-to-helmet.jpg\n",
            "[%] File Downloaded !\n",
            "\n",
            "[%] Downloading Image #11 from http://image.shutterstock.com/z/stock-photo-latino-motorcycle-man-wearing-a-black-motorcycle-helmet-and-dark-sunglasses-isolated-6441127.jpg\n",
            "[%] File Downloaded !\n",
            "\n",
            "[%] Downloading Image #12 from http://www.guysgab.com/wp-content/uploads/2013/03/Corey-Wearing-Rogue-Helmet.jpg\n",
            "[%] File Downloaded !\n",
            "\n",
            "[%] Downloading Image #13 from http://cache4.asset-cache.net/gc/84143461-portrait-of-man-wearing-motorcycle-helmet-gettyimages.jpg?v=1&amp;c=IWSAsset&amp;k=2&amp;d=k52LdYRTlpluihiPGR3n1f2iKrT06JeWgb7g2r9lyIU%3d\n",
            "[!] Issue getting: http://cache4.asset-cache.net/gc/84143461-portrait-of-man-wearing-motorcycle-helmet-gettyimages.jpg?v=1&amp;c=IWSAsset&amp;k=2&amp;d=k52LdYRTlpluihiPGR3n1f2iKrT06JeWgb7g2r9lyIU%3d\n",
            "[!] Error:: <urlopen error [Errno -2] Name or service not known>\n",
            "[%] Downloading Image #13 from http://www.personal.psu.edu/afr3/blogs/siowfa13/IMG_2643.jpg\n",
            "[%] File Downloaded !\n",
            "\n",
            "[%] Downloading Image #14 from http://www.sakerracing.com/wp-content/uploads/2017/08/man-with-red-motorcycle-helmet-1024x915.png\n",
            "[%] File Downloaded !\n",
            "\n",
            "[%] Downloading Image #15 from https://media.gettyimages.com/photos/man-wearing-motorcycle-helmet-and-goggles-picture-id86076021\n",
            "[%] File Downloaded !\n",
            "\n",
            "[%] Downloading Image #16 from https://cdn.hswstatic.com/gif/safest-moto-helmet-orig.jpg\n",
            "[%] File Downloaded !\n",
            "\n",
            "[%] Downloading Image #17 from https://media.gettyimages.com/photos/mature-man-wearing-motorcycle-helmet-portrait-picture-id72890333?s=170667a\n",
            "[%] File Downloaded !\n",
            "\n",
            "[%] Downloading Image #18 from https://image.shutterstock.com/z/stock-photo-man-in-motorcycle-outfit-and-wearing-red-helmet-facing-the-camera-isolated-on-white-9327988.jpg\n",
            "[%] File Downloaded !\n",
            "\n",
            "[%] Downloading Image #19 from http://www.denenapoints.com/wp-content/uploads/2014/07/Texas-motorcycle-helmet-laws.jpg\n",
            "[%] File Downloaded !\n",
            "\n",
            "[%] Downloading Image #20 from http://c8.alamy.com/comp/BWNT43/passenger-jumping-on-motor-scooter-wearing-motor-bike-helmet-BWNT43.jpg\n",
            "[%] File Downloaded !\n",
            "\n",
            "[%] Downloading Image #21 from http://image.shutterstock.com/z/stock-photo-portrait-of-a-man-wearing-a-motorcycle-helmet-61095526.jpg\n",
            "[%] File Downloaded !\n",
            "\n",
            "[%] Downloading Image #22 from http://www.zenreich.com/ZenWeb/motorcycle/images/schuberth2.jpg\n",
            "[%] File Downloaded !\n",
            "\n",
            "[%] Downloading Image #23 from http://3.bp.blogspot.com/_CAxfTMMYphM/S8UYqd4G5kI/AAAAAAAAL6I/pQv3h83dw3M/s400/Wear+Motorcycle+Helmets+2.jpg\n",
            "[%] File Downloaded !\n",
            "\n",
            "[%] Downloading Image #24 from https://thumb7.shutterstock.com/display_pic_with_logo/186589/186589,1315344781,14/stock-photo-portrait-of-young-man-wearing-helmet-leather-costume-driving-red-motorbike-84166018.jpg\n",
            "[%] File Downloaded !\n",
            "\n",
            "[%] Downloading Image #25 from http://www.zenreich.com/ZenWeb/motorcycle/images/schuberth3.jpg\n",
            "[%] File Downloaded !\n",
            "\n",
            "[%] Downloading Image #26 from http://badasshelmetstore.com/wp-content/uploads/2014/03/girl-with-goggles.png\n",
            "[%] File Downloaded !\n",
            "\n",
            "[%] Downloading Image #27 from https://qph.fs.quoracdn.net/main-qimg-7c8dbfd314c785802aff5c38be1fc2c6-c\n",
            "[%] File Downloaded !\n",
            "\n",
            "[%] Downloading Image #28 from https://cdn7.dissolve.com/p/D1024_91_021/D1024_91_021_1200.jpg\n",
            "[%] File Downloaded !\n",
            "\n",
            "\n",
            "\n",
            "[!!]Indexing page: 2\n",
            "\n",
            "[%] Indexed 35 Images on Page 2.\n",
            "\n",
            "===============================================\n",
            "\n",
            "[%] Downloading Image #29 from https://www.themotoexpert.com/wp-content/uploads/2018/06/MotorcycleHelmet_1.jpeg\n",
            "[%] File Downloaded !\n",
            "\n",
            "[%] Downloading Image #30 from http://c8.alamy.com/comp/A3KGXB/smiling-young-man-wearing-motorcycle-helmet-and-jacket-with-workplace-A3KGXB.jpg\n",
            "[%] File Downloaded !\n",
            "\n",
            "\n",
            "\n",
            "[%] Done. Downloaded 30 images.\n",
            "\n",
            "===============================================\n",
            "\n"
          ],
          "name": "stdout"
        }
      ]
    },
    {
      "cell_type": "code",
      "metadata": {
        "id": "7WN5VLVUDX9V",
        "colab_type": "code",
        "colab": {
          "base_uri": "https://localhost:8080/",
          "height": 245
        },
        "outputId": "be58024d-a479-4d2b-e479-b04f877115b5"
      },
      "source": [
        "path='/content/drive/My Drive/data science/images/images/Person Wearing Motorcycle Helmet/Image_10.png'\n",
        "import cv2\n",
        "import matplotlib.pyplot as plt\n",
        "i = cv2.imread(path)\n",
        "i = cv2.cvtColor(i,cv2.COLOR_BGR2RGB)\n",
        "plt.imshow(i)"
      ],
      "execution_count": 22,
      "outputs": [
        {
          "output_type": "execute_result",
          "data": {
            "text/plain": [
              "<matplotlib.image.AxesImage at 0x7fdb7e053438>"
            ]
          },
          "metadata": {
            "tags": []
          },
          "execution_count": 22
        },
        {
          "output_type": "display_data",
          "data": {
            "image/png": "[encoded data removed]",
            "text/plain": [
              "<Figure size 432x288 with 1 Axes>"
            ]
          },
          "metadata": {
            "tags": [],
            "needs_background": "light"
          }
        }
      ]
    },
    {
      "cell_type": "code",
      "metadata": {
        "id": "KspO5PVwJ7F_",
        "colab_type": "code",
        "colab": {}
      },
      "source": [
        ""
      ],
      "execution_count": 22,
      "outputs": []
    },
    {
      "cell_type": "code",
      "metadata": {
        "id": "5ZDc2235DqQG",
        "colab_type": "code",
        "colab": {}
      },
      "source": [
        "import os\n",
        "import cv2\n",
        "import pandas as pd\n",
        "import numpy as np\n",
        "# path='/content/drive/My Drive/data science/images/images/human face images'\n",
        "# flat_data1=[]\n",
        "# for filename in os.listdir(path):\n",
        "#   i = cv2.imread(os.path.join(path,filename))\n",
        "#   # a=np.array(i)\n",
        "#   flat_data1.append(a.flatten())\n",
        "# # flat_data1 = np.array(flat_data1)\n",
        "# print(flat_data1)\n"
      ],
      "execution_count": 27,
      "outputs": []
    },
    {
      "cell_type": "code",
      "metadata": {
        "id": "dOOXpsZ2Etvt",
        "colab_type": "code",
        "colab": {}
      },
      "source": [
        "import os\n",
        "from skimage.io import imread\n",
        "from skimage.transform import resize\n"
      ],
      "execution_count": 25,
      "outputs": []
    },
    {
      "cell_type": "code",
      "metadata": {
        "id": "YJ5Ge785Hweg",
        "colab_type": "code",
        "colab": {
          "base_uri": "https://localhost:8080/",
          "height": 72
        },
        "outputId": "7d998f48-e007-42f0-c2a8-f93a96205a64"
      },
      "source": [
        "target = []   # This is the list of Target Output\n",
        "flat_data = []   # Image pixel in flatten style\n",
        "images= []\n",
        "\n",
        "path = '/content/drive/My Drive/data science/images/images/'\n",
        "for dirpath, dirnames, filenames in os.walk(path):\n",
        "  for filename in filenames:\n",
        "    category = dirpath.split('/')[-1]\n",
        "    target.append(category)\n",
        "    img = imread(f'{path}{category}/{filename}')\n",
        "    img_resized = resize(img,(50,50,3))  # Scaling down\n",
        "    flat_data.append(img_resized.flatten())\n",
        "    images.append(img_resized)\n",
        "\n",
        "flat_data = np.array(flat_data)\n",
        "target = np.array(target)\n",
        "images = np.array(images)\n",
        "\n",
        "print(flat_data.shape)\n",
        "print(target.shape)\n",
        "print(images.shape)\n"
      ],
      "execution_count": 26,
      "outputs": [
        {
          "output_type": "stream",
          "text": [
            "(69, 7500)\n",
            "(69,)\n",
            "(69, 50, 50, 3)\n"
          ],
          "name": "stdout"
        }
      ]
    },
    {
      "cell_type": "code",
      "metadata": {
        "id": "fSuqdqjxNF1i",
        "colab_type": "code",
        "colab": {
          "base_uri": "https://localhost:8080/",
          "height": 254
        },
        "outputId": "8145017a-7f16-41db-bed0-ed40ace61b7f"
      },
      "source": [
        "flat_data"
      ],
      "execution_count": 28,
      "outputs": [
        {
          "output_type": "execute_result",
          "data": {
            "text/plain": [
              "array([[0.        , 0.        , 0.        , ..., 0.01176471, 0.00392157,\n",
              "        0.00784314],\n",
              "       [0.82745098, 0.88627451, 0.90588235, ..., 0.58744471, 0.74709176,\n",
              "        0.75113725],\n",
              "       [0.56078431, 0.56078431, 0.56078431, ..., 0.57647059, 0.59827451,\n",
              "        0.6052549 ],\n",
              "       ...,\n",
              "       [0.92941176, 0.90980392, 0.88627451, ..., 0.12007843, 0.12007843,\n",
              "        0.11223529],\n",
              "       [0.99215686, 0.99215686, 0.99215686, ..., 0.56403922, 0.57505882,\n",
              "        0.52088863],\n",
              "       [0.        , 0.35294118, 0.69019608, ..., 0.18823529, 0.2       ,\n",
              "        0.28235294]])"
            ]
          },
          "metadata": {
            "tags": []
          },
          "execution_count": 28
        }
      ]
    },
    {
      "cell_type": "code",
      "metadata": {
        "id": "uPfyGTYeNatZ",
        "colab_type": "code",
        "colab": {
          "base_uri": "https://localhost:8080/",
          "height": 1000
        },
        "outputId": "e3720de3-8f24-457e-bbea-76afc52392fb"
      },
      "source": [
        "print(images)"
      ],
      "execution_count": 29,
      "outputs": [
        {
          "output_type": "stream",
          "text": [
            "[[[[0.         0.         0.        ]\n",
            "   [0.         0.         0.        ]\n",
            "   [0.         0.         0.        ]\n",
            "   ...\n",
            "   [0.00361569 0.         0.        ]\n",
            "   [0.         0.         0.        ]\n",
            "   [0.         0.         0.        ]]\n",
            "\n",
            "  [[0.         0.         0.        ]\n",
            "   [0.         0.         0.        ]\n",
            "   [0.         0.         0.        ]\n",
            "   ...\n",
            "   [0.01568627 0.01176471 0.00784314]\n",
            "   [0.         0.         0.        ]\n",
            "   [0.         0.         0.        ]]\n",
            "\n",
            "  [[0.         0.         0.        ]\n",
            "   [0.         0.         0.        ]\n",
            "   [0.         0.         0.        ]\n",
            "   ...\n",
            "   [0.01960784 0.01568627 0.00784314]\n",
            "   [0.01176471 0.00784314 0.00392157]\n",
            "   [0.         0.         0.        ]]\n",
            "\n",
            "  ...\n",
            "\n",
            "  [[0.01568627 0.01176471 0.00784314]\n",
            "   [0.01568627 0.01176471 0.00784314]\n",
            "   [0.02352941 0.01843137 0.01176471]\n",
            "   ...\n",
            "   [0.02352941 0.01568627 0.01568627]\n",
            "   [0.01960784 0.01236863 0.00784314]\n",
            "   [0.01568627 0.00784314 0.00784314]]\n",
            "\n",
            "  [[0.00784314 0.00392157 0.00392157]\n",
            "   [0.01176471 0.00698039 0.00784314]\n",
            "   [0.00870588 0.00392157 0.00392157]\n",
            "   ...\n",
            "   [0.01960784 0.01176471 0.01176471]\n",
            "   [0.01568627 0.01176471 0.00784314]\n",
            "   [0.01176471 0.00392157 0.00784314]]\n",
            "\n",
            "  [[0.00784314 0.00392157 0.00392157]\n",
            "   [0.01568627 0.00784314 0.00392157]\n",
            "   [0.00392157 0.         0.        ]\n",
            "   ...\n",
            "   [0.01568627 0.01176471 0.00784314]\n",
            "   [0.01176471 0.00392157 0.00784314]\n",
            "   [0.01176471 0.00392157 0.00784314]]]\n",
            "\n",
            "\n",
            " [[[0.82745098 0.88627451 0.90588235]\n",
            "   [0.82745098 0.88627451 0.90588235]\n",
            "   [0.82745098 0.88627451 0.90588235]\n",
            "   ...\n",
            "   [0.8745098  0.92941176 0.94509804]\n",
            "   [0.8745098  0.92941176 0.94901961]\n",
            "   [0.8745098  0.9254902  0.94901961]]\n",
            "\n",
            "  [[0.82745098 0.88627451 0.90588235]\n",
            "   [0.82745098 0.88627451 0.90588235]\n",
            "   [0.83137255 0.89019608 0.90980392]\n",
            "   ...\n",
            "   [0.87843137 0.92941176 0.94901961]\n",
            "   [0.87843137 0.92941176 0.94901961]\n",
            "   [0.87843137 0.92941176 0.94901961]]\n",
            "\n",
            "  [[0.83137255 0.89019608 0.90980392]\n",
            "   [0.83137255 0.89019608 0.90980392]\n",
            "   [0.83137255 0.89019608 0.90980392]\n",
            "   ...\n",
            "   [0.87843137 0.92941176 0.94901961]\n",
            "   [0.87843137 0.92941176 0.94901961]\n",
            "   [0.87843137 0.93333333 0.94901961]]\n",
            "\n",
            "  ...\n",
            "\n",
            "  [[0.90196078 0.94509804 0.96079216]\n",
            "   [0.80636863 0.90265098 0.92223529]\n",
            "   [0.57545098 0.79705882 0.83235294]\n",
            "   ...\n",
            "   [0.46764706 0.71764706 0.74043137]\n",
            "   [0.65823529 0.80547451 0.81312157]\n",
            "   [0.91442353 0.96113725 0.96898039]]\n",
            "\n",
            "  [[0.87729412 0.9334902  0.95154824]\n",
            "   [0.6485098  0.82694118 0.85421804]\n",
            "   [0.50913725 0.77254902 0.81176471]\n",
            "   ...\n",
            "   [0.41423529 0.69774902 0.72941176]\n",
            "   [0.46747294 0.69560784 0.70882353]\n",
            "   [0.79105882 0.88239216 0.88631373]]\n",
            "\n",
            "  [[0.80224157 0.89917647 0.91486275]\n",
            "   [0.53237176 0.77656941 0.80521569]\n",
            "   [0.48235294 0.76470588 0.80082353]\n",
            "   ...\n",
            "   [0.37729412 0.6790902  0.71702745]\n",
            "   [0.37739294 0.64788235 0.67094118]\n",
            "   [0.58744471 0.74709176 0.75113725]]]\n",
            "\n",
            "\n",
            " [[[0.56078431 0.56078431 0.56078431]\n",
            "   [0.56078431 0.56078431 0.56078431]\n",
            "   [0.56078431 0.56078431 0.56078431]\n",
            "   ...\n",
            "   [0.56078431 0.56078431 0.56078431]\n",
            "   [0.56078431 0.56078431 0.56078431]\n",
            "   [0.56078431 0.56078431 0.56078431]]\n",
            "\n",
            "  [[0.56078431 0.56078431 0.56078431]\n",
            "   [0.56078431 0.56078431 0.56078431]\n",
            "   [0.56078431 0.56078431 0.56078431]\n",
            "   ...\n",
            "   [0.56078431 0.56078431 0.56078431]\n",
            "   [0.56078431 0.56078431 0.56078431]\n",
            "   [0.56078431 0.56078431 0.56078431]]\n",
            "\n",
            "  [[0.56078431 0.56078431 0.56078431]\n",
            "   [0.56078431 0.56078431 0.56078431]\n",
            "   [0.56078431 0.56078431 0.56078431]\n",
            "   ...\n",
            "   [0.56078431 0.56078431 0.56078431]\n",
            "   [0.56078431 0.56078431 0.56078431]\n",
            "   [0.56078431 0.56078431 0.56078431]]\n",
            "\n",
            "  ...\n",
            "\n",
            "  [[0.56078431 0.56078431 0.56078431]\n",
            "   [0.56078431 0.56078431 0.56078431]\n",
            "   [0.56078431 0.56078431 0.56078431]\n",
            "   ...\n",
            "   [0.56078431 0.56078431 0.56078431]\n",
            "   [0.56078431 0.56078431 0.56078431]\n",
            "   [0.56078431 0.56078431 0.56078431]]\n",
            "\n",
            "  [[0.56078431 0.56078431 0.56078431]\n",
            "   [0.56078431 0.56078431 0.56078431]\n",
            "   [0.56078431 0.56078431 0.56078431]\n",
            "   ...\n",
            "   [0.57254902 0.58627451 0.59019608]\n",
            "   [0.57647059 0.59741176 0.60196078]\n",
            "   [0.56862745 0.57756863 0.5814902 ]]\n",
            "\n",
            "  [[0.56078431 0.56078431 0.56078431]\n",
            "   [0.56078431 0.56078431 0.56078431]\n",
            "   [0.56078431 0.56078431 0.56078431]\n",
            "   ...\n",
            "   [0.58823529 0.62196078 0.63372549]\n",
            "   [0.6        0.64509804 0.66078431]\n",
            "   [0.57647059 0.59827451 0.6052549 ]]]\n",
            "\n",
            "\n",
            " ...\n",
            "\n",
            "\n",
            " [[[0.92941176 0.90980392 0.88627451]\n",
            "   [0.9372549  0.91764706 0.89411765]\n",
            "   [0.94901961 0.92792157 0.90317647]\n",
            "   ...\n",
            "   [0.83847059 0.82203922 0.8       ]\n",
            "   [0.83380392 0.81568627 0.79215686]\n",
            "   [0.82745098 0.81176471 0.78431373]]\n",
            "\n",
            "  [[0.96023529 0.94117647 0.90980392]\n",
            "   [0.96415686 0.94509804 0.91709804]\n",
            "   [0.96835294 0.94901961 0.92494118]\n",
            "   ...\n",
            "   [0.85490196 0.83529412 0.81176471]\n",
            "   [0.84313725 0.82352941 0.8       ]\n",
            "   [0.83529412 0.81568627 0.79215686]]\n",
            "\n",
            "  [[0.96078431 0.94470588 0.90980392]\n",
            "   [0.96862745 0.95294118 0.92156863]\n",
            "   [0.97647059 0.96470588 0.94117647]\n",
            "   ...\n",
            "   [0.85882353 0.83921569 0.81568627]\n",
            "   [0.84509804 0.8254902  0.80196078]\n",
            "   [0.83529412 0.81568627 0.79215686]]\n",
            "\n",
            "  ...\n",
            "\n",
            "  [[0.25058824 0.24294118 0.23490196]\n",
            "   [0.21254902 0.20843137 0.20470588]\n",
            "   [0.12058824 0.12254902 0.12235294]\n",
            "   ...\n",
            "   [0.19235294 0.19235294 0.1845098 ]\n",
            "   [0.16647059 0.16647059 0.15862745]\n",
            "   [0.14156863 0.14156863 0.13372549]]\n",
            "\n",
            "  [[0.25435294 0.2465098  0.23643137]\n",
            "   [0.13584314 0.13584314 0.12854902]\n",
            "   [0.09380392 0.09603922 0.09603922]\n",
            "   ...\n",
            "   [0.17647059 0.17647059 0.16862745]\n",
            "   [0.16470588 0.16470588 0.15686275]\n",
            "   [0.14117647 0.14117647 0.13333333]]\n",
            "\n",
            "  [[0.19215686 0.1867451  0.17647059]\n",
            "   [0.26572549 0.26572549 0.25713725]\n",
            "   [0.37384314 0.38243137 0.38094118]\n",
            "   ...\n",
            "   [0.15929412 0.15929412 0.15415686]\n",
            "   [0.14043137 0.14043137 0.13333333]\n",
            "   [0.12007843 0.12007843 0.11223529]]]\n",
            "\n",
            "\n",
            " [[[0.99215686 0.99215686 0.99215686]\n",
            "   [0.99215686 0.99215686 0.99215686]\n",
            "   [0.99215686 0.99215686 0.99215686]\n",
            "   ...\n",
            "   [0.31658824 0.36071765 0.29698039]\n",
            "   [0.36494118 0.40807843 0.3612549 ]\n",
            "   [0.68643137 0.73347686 0.75708471]]\n",
            "\n",
            "  [[0.92933333 0.93917647 0.95878431]\n",
            "   [0.92933333 0.93729647 0.95878431]\n",
            "   [0.93717647 0.94701961 0.96662745]\n",
            "   ...\n",
            "   [0.23548627 0.2725098  0.2       ]\n",
            "   [0.31196078 0.35117647 0.30411765]\n",
            "   [0.56866745 0.604      0.62360784]]\n",
            "\n",
            "  [[0.56705882 0.57882353 0.61803922]\n",
            "   [0.56705882 0.57882353 0.61470588]\n",
            "   [0.59411765 0.60288235 0.64209804]\n",
            "   ...\n",
            "   [0.20392157 0.21960784 0.16078431]\n",
            "   [0.23216078 0.25490196 0.20395686]\n",
            "   [0.34177647 0.35027451 0.3385098 ]]\n",
            "\n",
            "  ...\n",
            "\n",
            "  [[0.74117647 0.72163529 0.71764706]\n",
            "   [0.58047451 0.5685098  0.57635294]\n",
            "   [0.26705882 0.26705882 0.2975098 ]\n",
            "   ...\n",
            "   [0.43862745 0.45915686 0.52582353]\n",
            "   [0.53686667 0.54866667 0.58372549]\n",
            "   [0.55169804 0.54057647 0.52424706]]\n",
            "\n",
            "  [[0.70596078 0.68635294 0.68239294]\n",
            "   [0.39674275 0.38889961 0.40054902]\n",
            "   [0.202      0.19827059 0.21376471]\n",
            "   ...\n",
            "   [0.36670588 0.38670588 0.44513725]\n",
            "   [0.41376471 0.42945098 0.4745098 ]\n",
            "   [0.44705882 0.42745098 0.40784314]]\n",
            "\n",
            "  [[0.69027451 0.67777804 0.66282353]\n",
            "   [0.38803922 0.40239216 0.35666667]\n",
            "   [0.30807843 0.32669412 0.26494118]\n",
            "   ...\n",
            "   [0.32941176 0.35294118 0.34184314]\n",
            "   [0.43486275 0.46231373 0.45188235]\n",
            "   [0.56403922 0.57505882 0.52088863]]]\n",
            "\n",
            "\n",
            " [[[0.         0.35294118 0.69019608]\n",
            "   [0.         0.35294118 0.69019608]\n",
            "   [0.         0.35294118 0.69254902]\n",
            "   ...\n",
            "   [0.         0.37254902 0.7372549 ]\n",
            "   [0.         0.36862745 0.73333333]\n",
            "   [0.         0.36470588 0.72941176]]\n",
            "\n",
            "  [[0.         0.34901961 0.69019608]\n",
            "   [0.         0.34509804 0.68627451]\n",
            "   [0.         0.34509804 0.68235294]\n",
            "   ...\n",
            "   [0.         0.38039216 0.74901961]\n",
            "   [0.         0.37465098 0.74282353]\n",
            "   [0.         0.37254902 0.74117647]]\n",
            "\n",
            "  [[0.         0.3372549  0.67843137]\n",
            "   [0.         0.3372549  0.68235294]\n",
            "   [0.         0.34117647 0.68235294]\n",
            "   ...\n",
            "   [0.         0.39215686 0.75686275]\n",
            "   [0.         0.38823529 0.75686275]\n",
            "   [0.         0.38039216 0.74956863]]\n",
            "\n",
            "  ...\n",
            "\n",
            "  [[0.18039216 0.18431373 0.2627451 ]\n",
            "   [0.18203922 0.18431373 0.26439216]\n",
            "   [0.33529412 0.33529412 0.40313725]\n",
            "   ...\n",
            "   [0.18431373 0.18705882 0.26666667]\n",
            "   [0.18039216 0.18431373 0.2627451 ]\n",
            "   [0.18039216 0.18039216 0.2627451 ]]\n",
            "\n",
            "  [[0.19215686 0.19215686 0.27843137]\n",
            "   [0.19607843 0.2        0.28235294]\n",
            "   [0.46117647 0.46117647 0.5172549 ]\n",
            "   ...\n",
            "   [0.19882353 0.2027451  0.28235294]\n",
            "   [0.19215686 0.19607843 0.27843137]\n",
            "   [0.18823529 0.19215686 0.27843137]]\n",
            "\n",
            "  [[0.19215686 0.19607843 0.28235294]\n",
            "   [0.19215686 0.2        0.28235294]\n",
            "   [0.28980392 0.29372549 0.36823529]\n",
            "   ...\n",
            "   [0.19215686 0.2        0.28235294]\n",
            "   [0.19215686 0.2        0.28235294]\n",
            "   [0.18823529 0.2        0.28235294]]]]\n"
          ],
          "name": "stdout"
        }
      ]
    },
    {
      "cell_type": "code",
      "metadata": {
        "id": "7XEs2uhbbRDS",
        "colab_type": "code",
        "colab": {}
      },
      "source": [
        "# from sklearn.model_selection import GridSearchCV\n",
        "# from sklearn.neighbors import KNeighborsClassifier\n",
        "# param={'n_neighbors':flat_data}\n",
        "# model=KNeighborsClassifier()\n",
        "# model_grid=GridSearchCV(model,param)\n",
        "# model_grid.git(flat_data,target)"
      ],
      "execution_count": 47,
      "outputs": []
    },
    {
      "cell_type": "markdown",
      "metadata": {
        "id": "luJfC01FgUiK",
        "colab_type": "text"
      },
      "source": [
        "\n",
        "Applying Kneighbours classifier\n"
      ]
    },
    {
      "cell_type": "code",
      "metadata": {
        "id": "UBU0M8fLf7au",
        "colab_type": "code",
        "colab": {
          "base_uri": "https://localhost:8080/",
          "height": 72
        },
        "outputId": "fd61fbde-63c0-466d-f626-6420b01ad784"
      },
      "source": [
        "\n",
        "from sklearn.neighbors import KNeighborsClassifier\n",
        "model=KNeighborsClassifier(n_neighbors=5)\n",
        "model.fit(flat_data,target)\n"
      ],
      "execution_count": 48,
      "outputs": [
        {
          "output_type": "execute_result",
          "data": {
            "text/plain": [
              "KNeighborsClassifier(algorithm='auto', leaf_size=30, metric='minkowski',\n",
              "                     metric_params=None, n_jobs=None, n_neighbors=5, p=2,\n",
              "                     weights='uniform')"
            ]
          },
          "metadata": {
            "tags": []
          },
          "execution_count": 48
        }
      ]
    },
    {
      "cell_type": "code",
      "metadata": {
        "id": "Xk9ze_xWhcRZ",
        "colab_type": "code",
        "colab": {
          "base_uri": "https://localhost:8080/",
          "height": 254
        },
        "outputId": "86141a71-c557-4d58-cf27-631b37800197"
      },
      "source": [
        "from sklearn.model_selection import train_test_split\n",
        "x_train,x_test,y_train,y_test=train_test_split(flat_data,target,random_state=0)\n",
        "x_train"
      ],
      "execution_count": 49,
      "outputs": [
        {
          "output_type": "execute_result",
          "data": {
            "text/plain": [
              "array([[0.0627451 , 0.0627451 , 0.0627451 , ..., 0.38039216, 0.34509804,\n",
              "        0.28334431],\n",
              "       [0.20784314, 0.18039216, 0.12156863, ..., 0.16627451, 0.14666667,\n",
              "        0.11137255],\n",
              "       [0.37647059, 0.38823529, 0.41176471, ..., 0.02745098, 0.02745098,\n",
              "        0.01960784],\n",
              "       ...,\n",
              "       [0.99037255, 0.99256863, 0.99607843, ..., 0.99607843, 0.99333333,\n",
              "        0.99256863],\n",
              "       [0.78266667, 0.79427451, 0.81192157, ..., 0.27843137, 0.27843137,\n",
              "        0.32156863],\n",
              "       [0.98823529, 0.98823529, 0.98823529, ..., 0.15686275, 0.18039216,\n",
              "        0.22352941]])"
            ]
          },
          "metadata": {
            "tags": []
          },
          "execution_count": 49
        }
      ]
    },
    {
      "cell_type": "code",
      "metadata": {
        "id": "nPACpHtUjFpm",
        "colab_type": "code",
        "colab": {
          "base_uri": "https://localhost:8080/",
          "height": 563
        },
        "outputId": "6998dd8d-a262-4699-a5ef-1a273cd2c409"
      },
      "source": [
        "y_train\n"
      ],
      "execution_count": 50,
      "outputs": [
        {
          "output_type": "execute_result",
          "data": {
            "text/plain": [
              "array(['human face images', 'human face images', 'human face images',\n",
              "       'human face images', 'Person Wearing Motorcycle Helmet',\n",
              "       'human face images', 'human face images',\n",
              "       'Person Wearing Motorcycle Helmet',\n",
              "       'Person Wearing Motorcycle Helmet', 'human face images',\n",
              "       'Person Wearing Motorcycle Helmet',\n",
              "       'Person Wearing Motorcycle Helmet',\n",
              "       'Person Wearing Motorcycle Helmet',\n",
              "       'Person Wearing Motorcycle Helmet', 'human face images',\n",
              "       'human face images', 'Person Wearing Motorcycle Helmet',\n",
              "       'human face images', 'human face images',\n",
              "       'Person Wearing Motorcycle Helmet',\n",
              "       'Person Wearing Motorcycle Helmet', 'human face images',\n",
              "       'human face images', 'human face images', 'human face images',\n",
              "       'human face images', 'human face images',\n",
              "       'Person Wearing Motorcycle Helmet', 'human face images',\n",
              "       'human face images', 'human face images',\n",
              "       'Person Wearing Motorcycle Helmet', 'human face images',\n",
              "       'Person Wearing Motorcycle Helmet',\n",
              "       'Person Wearing Motorcycle Helmet',\n",
              "       'Person Wearing Motorcycle Helmet',\n",
              "       'Person Wearing Motorcycle Helmet',\n",
              "       'Person Wearing Motorcycle Helmet', 'human face images',\n",
              "       'human face images', 'Person Wearing Motorcycle Helmet',\n",
              "       'human face images', 'human face images', 'human face images',\n",
              "       'Person Wearing Motorcycle Helmet',\n",
              "       'Person Wearing Motorcycle Helmet', 'human face images',\n",
              "       'human face images', 'Person Wearing Motorcycle Helmet',\n",
              "       'Person Wearing Motorcycle Helmet',\n",
              "       'Person Wearing Motorcycle Helmet'], dtype='<U32')"
            ]
          },
          "metadata": {
            "tags": []
          },
          "execution_count": 50
        }
      ]
    },
    {
      "cell_type": "code",
      "metadata": {
        "id": "6K1-ZEDPjNrN",
        "colab_type": "code",
        "colab": {
          "base_uri": "https://localhost:8080/",
          "height": 217
        },
        "outputId": "c2b36161-adef-4ef3-a660-75067ac28d18"
      },
      "source": [
        "model=KNeighborsClassifier(n_neighbors=7)\n",
        "model.fit(x_train,y_train)\n",
        "y_pred=model.predict(x_test)\n",
        "y_pred"
      ],
      "execution_count": 51,
      "outputs": [
        {
          "output_type": "execute_result",
          "data": {
            "text/plain": [
              "array(['human face images', 'Person Wearing Motorcycle Helmet',\n",
              "       'Person Wearing Motorcycle Helmet',\n",
              "       'Person Wearing Motorcycle Helmet',\n",
              "       'Person Wearing Motorcycle Helmet', 'human face images',\n",
              "       'human face images', 'human face images',\n",
              "       'Person Wearing Motorcycle Helmet',\n",
              "       'Person Wearing Motorcycle Helmet', 'human face images',\n",
              "       'human face images', 'human face images', 'human face images',\n",
              "       'human face images', 'Person Wearing Motorcycle Helmet',\n",
              "       'human face images', 'Person Wearing Motorcycle Helmet'],\n",
              "      dtype='<U32')"
            ]
          },
          "metadata": {
            "tags": []
          },
          "execution_count": 51
        }
      ]
    },
    {
      "cell_type": "code",
      "metadata": {
        "id": "QqZyIAXbjnHv",
        "colab_type": "code",
        "colab": {
          "base_uri": "https://localhost:8080/",
          "height": 254
        },
        "outputId": "b184782b-76fc-4fad-e579-b1f84dd0764e"
      },
      "source": [
        "y_test"
      ],
      "execution_count": 52,
      "outputs": [
        {
          "output_type": "execute_result",
          "data": {
            "text/plain": [
              "array(['Person Wearing Motorcycle Helmet',\n",
              "       'Person Wearing Motorcycle Helmet',\n",
              "       'Person Wearing Motorcycle Helmet',\n",
              "       'Person Wearing Motorcycle Helmet',\n",
              "       'Person Wearing Motorcycle Helmet',\n",
              "       'Person Wearing Motorcycle Helmet', 'human face images',\n",
              "       'Person Wearing Motorcycle Helmet',\n",
              "       'Person Wearing Motorcycle Helmet',\n",
              "       'Person Wearing Motorcycle Helmet', 'human face images',\n",
              "       'human face images', 'human face images', 'human face images',\n",
              "       'human face images', 'Person Wearing Motorcycle Helmet',\n",
              "       'Person Wearing Motorcycle Helmet',\n",
              "       'Person Wearing Motorcycle Helmet'], dtype='<U32')"
            ]
          },
          "metadata": {
            "tags": []
          },
          "execution_count": 52
        }
      ]
    },
    {
      "cell_type": "code",
      "metadata": {
        "id": "pffZCsrJkkcP",
        "colab_type": "code",
        "colab": {
          "base_uri": "https://localhost:8080/",
          "height": 35
        },
        "outputId": "0df9bdfc-df10-4219-bd1f-e25010f728c4"
      },
      "source": [
        "from sklearn.metrics import accuracy_score,confusion_matrix\n",
        "accuracy_score(y_pred,y_test)"
      ],
      "execution_count": 53,
      "outputs": [
        {
          "output_type": "execute_result",
          "data": {
            "text/plain": [
              "0.7777777777777778"
            ]
          },
          "metadata": {
            "tags": []
          },
          "execution_count": 53
        }
      ]
    },
    {
      "cell_type": "code",
      "metadata": {
        "id": "fZsbLG-Kk12d",
        "colab_type": "code",
        "colab": {
          "base_uri": "https://localhost:8080/",
          "height": 54
        },
        "outputId": "f6da2256-573e-43eb-f92f-25dd70302735"
      },
      "source": [
        "confusion_matrix(y_pred,y_test)"
      ],
      "execution_count": 54,
      "outputs": [
        {
          "output_type": "execute_result",
          "data": {
            "text/plain": [
              "array([[8, 0],\n",
              "       [4, 6]])"
            ]
          },
          "metadata": {
            "tags": []
          },
          "execution_count": 54
        }
      ]
    },
    {
      "cell_type": "code",
      "metadata": {
        "id": "2MuRZRMKlTcm",
        "colab_type": "code",
        "colab": {
          "base_uri": "https://localhost:8080/",
          "height": 35
        },
        "outputId": "16d3e08e-a423-42e7-9e19-2671648a8d16"
      },
      "source": [
        "model.predict([flat_data[1]])"
      ],
      "execution_count": 55,
      "outputs": [
        {
          "output_type": "execute_result",
          "data": {
            "text/plain": [
              "array(['human face images'], dtype='<U32')"
            ]
          },
          "metadata": {
            "tags": []
          },
          "execution_count": 55
        }
      ]
    },
    {
      "cell_type": "code",
      "metadata": {
        "id": "hYEd5asUlxCw",
        "colab_type": "code",
        "colab": {}
      },
      "source": [
        "import pandas as pd\n",
        "df = pd.DataFrame(flat_data)\n",
        "df['Target'] = target\n"
      ],
      "execution_count": 56,
      "outputs": []
    },
    {
      "cell_type": "code",
      "metadata": {
        "id": "e5vEPN3Qmuqb",
        "colab_type": "code",
        "colab": {
          "base_uri": "https://localhost:8080/",
          "height": 54
        },
        "outputId": "e29badb0-f801-4499-ca3b-d1e2e6ba45b5"
      },
      "source": [
        "flat_data[1]\n"
      ],
      "execution_count": 57,
      "outputs": [
        {
          "output_type": "execute_result",
          "data": {
            "text/plain": [
              "array([0.82745098, 0.88627451, 0.90588235, ..., 0.58744471, 0.74709176,\n",
              "       0.75113725])"
            ]
          },
          "metadata": {
            "tags": []
          },
          "execution_count": 57
        }
      ]
    },
    {
      "cell_type": "code",
      "metadata": {
        "id": "1dXIb1Uxmv0j",
        "colab_type": "code",
        "colab": {}
      },
      "source": [
        "i=imread('/content/drive/My Drive/data science/helmet.jpg')\n",
        "img1 = resize(i,(50,50,3))"
      ],
      "execution_count": 58,
      "outputs": []
    },
    {
      "cell_type": "code",
      "metadata": {
        "id": "JXBo4-3VqaDe",
        "colab_type": "code",
        "colab": {}
      },
      "source": [
        "a=img1.flatten()"
      ],
      "execution_count": 59,
      "outputs": []
    },
    {
      "cell_type": "code",
      "metadata": {
        "id": "2f-8kb8XqfGI",
        "colab_type": "code",
        "colab": {
          "base_uri": "https://localhost:8080/",
          "height": 35
        },
        "outputId": "25154ef2-0a9d-4f54-e422-7d4894aaa581"
      },
      "source": [
        "model.predict([a])"
      ],
      "execution_count": 60,
      "outputs": [
        {
          "output_type": "execute_result",
          "data": {
            "text/plain": [
              "array(['Person Wearing Motorcycle Helmet'], dtype='<U32')"
            ]
          },
          "metadata": {
            "tags": []
          },
          "execution_count": 60
        }
      ]
    },
    {
      "cell_type": "code",
      "metadata": {
        "id": "2iZ_029Zq4H0",
        "colab_type": "code",
        "colab": {
          "base_uri": "https://localhost:8080/",
          "height": 54
        },
        "outputId": "18de2312-6a77-42d2-c5eb-138f1f00b38e"
      },
      "source": [
        "i=imread('https://techcrunch.com/wp-content/uploads/2018/04/gettyimages-944359454.jpg')\n",
        "img2=resize(i,(50,50,3))\n",
        "b=img2.flatten()\n",
        "b"
      ],
      "execution_count": 61,
      "outputs": [
        {
          "output_type": "execute_result",
          "data": {
            "text/plain": [
              "array([0.33348863, 0.17662588, 0.14525333, ..., 0.44054902, 0.3254902 ,\n",
              "       0.22878431])"
            ]
          },
          "metadata": {
            "tags": []
          },
          "execution_count": 61
        }
      ]
    },
    {
      "cell_type": "code",
      "metadata": {
        "id": "BH6obNyJrmV1",
        "colab_type": "code",
        "colab": {
          "base_uri": "https://localhost:8080/",
          "height": 35
        },
        "outputId": "59aecc78-09d9-4dbf-b4f5-1f0171184ce5"
      },
      "source": [
        "model.predict([b])"
      ],
      "execution_count": 62,
      "outputs": [
        {
          "output_type": "execute_result",
          "data": {
            "text/plain": [
              "array(['human face images'], dtype='<U32')"
            ]
          },
          "metadata": {
            "tags": []
          },
          "execution_count": 62
        }
      ]
    },
    {
      "cell_type": "code",
      "metadata": {
        "id": "QJV2DvyUrvrG",
        "colab_type": "code",
        "colab": {
          "base_uri": "https://localhost:8080/",
          "height": 35
        },
        "outputId": "94b9976e-6b8b-4244-be53-b416466394a0"
      },
      "source": [
        "i=imread('https://prosafety101.com/wp-content/uploads/2018/02/man-with-helmet-on.jpg')\n",
        "img2=resize(i,(50,50,3))\n",
        "b=img2.flatten()\n",
        "model.predict([b])"
      ],
      "execution_count": 63,
      "outputs": [
        {
          "output_type": "execute_result",
          "data": {
            "text/plain": [
              "array(['human face images'], dtype='<U32')"
            ]
          },
          "metadata": {
            "tags": []
          },
          "execution_count": 63
        }
      ]
    }
  ]
}